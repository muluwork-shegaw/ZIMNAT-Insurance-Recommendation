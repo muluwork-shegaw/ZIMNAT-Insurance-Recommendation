{
 "cells": [
  {
   "cell_type": "code",
   "execution_count": 1,
   "metadata": {},
   "outputs": [],
   "source": [
    "from catboost import CatBoostClassifier"
   ]
  },
  {
   "cell_type": "code",
   "execution_count": 28,
   "metadata": {},
   "outputs": [],
   "source": [
    "#import necessary dependecies\n",
    "import plotly.express as px\n",
    "# import seaborn as sns\n",
    "# from sklearn.ensemble import RandomForestClassifier, GradientBoostingClassifier, AdaBoostClassifier\n",
    "# from sklearn.neighbors import KNeighborsClassifier\n",
    "# from sklearn.cluster import KMeans\n",
    "# from sklearn.preprocessing import LabelEncoder\n",
    "# from sklearn.pipeline import Pipeline\n",
    "\n",
    "# import math\n",
    "# import os\n",
    "import warnings\n",
    "import numpy as np  \n",
    "import pandas as pd, os, gc\n",
    "# import matplotlib.pyplot as plt\n",
    "\n",
    "from sklearn.metrics import roc_curve, auc, log_loss\n",
    "# from sklearn.feature_selection import mutual_info_classif\n",
    "# from sklearn.preprocessing import StandardScaler, RobustScaler,MinMaxScaler\n",
    "\n",
    "%matplotlib inline\n",
    "warnings.filterwarnings('ignore')\n",
    "from typing import List"
   ]
  },
  {
   "cell_type": "code",
   "execution_count": 29,
   "metadata": {},
   "outputs": [],
   "source": [
    "#Data Path\n",
    "data_path ='data/'\n",
    "# train =pd.read_csv(data_path + trains, parse_dates=['join_date'])\n",
    "# test =pd.read_csv(data_path + tests, parse_dates=['join_date'])\n",
    "# submission =pd.read_csv(data_path + submissions)\n",
    "\n"
   ]
  },
  {
   "cell_type": "code",
   "execution_count": 56,
   "metadata": {},
   "outputs": [],
   "source": [
    "#define some fxn to read the data set\n",
    "def read_train():\n",
    "    train =pd.read_csv(data_path + 'train.csv', parse_dates=['join_date'])\n",
    "    return train\n",
    "\n",
    "def read_test():\n",
    "    test =pd.read_csv(data_path + 'test.csv', parse_dates=['join_date'])\n",
    "    return test\n",
    "\n",
    "\n",
    "def read_submission():\n",
    "    submission =pd.read_csv(data_path + 'SampleSubmission.csv')\n",
    "    return submission\n",
    "\n",
    "#Assign defined fxns to variables\n",
    "train = read_train();test=read_test();submission=read_submission()"
   ]
  },
  {
   "cell_type": "code",
   "execution_count": 57,
   "metadata": {},
   "outputs": [
    {
     "name": "stdout",
     "output_type": "stream",
     "text": [
      "(29132, 29) (10000, 29) (210000, 2)\n"
     ]
    }
   ],
   "source": [
    "#print all dataset shape\n",
    "print(train.shape, test.shape,submission.shape)"
   ]
  },
  {
   "cell_type": "code",
   "execution_count": 58,
   "metadata": {},
   "outputs": [],
   "source": [
    "#Store Products ID in Multidimensional array\n",
    "product_col = ['P5DA', 'RIBP', '8NN1',\n",
    "       '7POT', '66FJ', 'GYSR', 'SOP4', 'RVSZ', 'PYUQ', 'LJR9', 'N2MW', 'AHXO',\n",
    "       'BSTQ', 'FM3X', 'K6QO', 'QBOL', 'JWFN', 'JZ9D', 'J9JW', 'GHYX', 'ECY3']\n",
    "\n",
    "products = train[train.columns[8:]]\n",
    "products_t =test[test.columns[8:]]"
   ]
  },
  {
   "cell_type": "code",
   "execution_count": 59,
   "metadata": {},
   "outputs": [
    {
     "data": {
      "text/plain": [
       "(29132, 21)"
      ]
     },
     "execution_count": 59,
     "metadata": {},
     "output_type": "execute_result"
    }
   ],
   "source": [
    "products.shape"
   ]
  },
  {
   "cell_type": "code",
   "execution_count": 60,
   "metadata": {},
   "outputs": [],
   "source": [
    "# k =pd.concat(objs=[train[train.columns[8:-1] ==1]], axis=1)\n",
    "k = train[train.columns[8:]]\n",
    "out = []\n",
    "for i in range (len(k)):\n",
    "    s = k.iloc[i]        \n",
    "    a = s.index[s == 1]\n",
    "#     out.append( ''.join(map(str,[k.columns.get_loc(col) for col in a])))\n",
    "    out.append(sum([k.columns.get_loc(col) for col in a]))"
   ]
  },
  {
   "cell_type": "code",
   "execution_count": 35,
   "metadata": {},
   "outputs": [],
   "source": [
    "# k =pd.concat(objs=[train[train.columns[8:-1] ==1]], axis=1)\n",
    "j= test[test.columns[8:]]\n",
    "out_2 = []\n",
    "for i in range (len(j)):\n",
    "    s = j.iloc[i]        \n",
    "    a = s.index[s == 1]\n",
    "#     out.append( ''.join(map(str,[k.columns.get_loc(col) for col in a])))\n",
    "    out_2.append(sum([j.columns.get_loc(col) for col in a]))"
   ]
  },
  {
   "cell_type": "code",
   "execution_count": null,
   "metadata": {},
   "outputs": [],
   "source": []
  },
  {
   "cell_type": "code",
   "execution_count": null,
   "metadata": {},
   "outputs": [],
   "source": []
  },
  {
   "cell_type": "code",
   "execution_count": 61,
   "metadata": {},
   "outputs": [],
   "source": [
    "train['impact _of_previous_subscription'] =  train['P5DA'] + train['RIBP'] +\\\n",
    "train['7POT']+train['66FJ']+train['GYSR']+train['SOP4']+\\\n",
    "train['RVSZ']+train['PYUQ']+train['LJR9']+train['N2MW']+\\\n",
    "train['AHXO']+train['BSTQ']+train['FM3X']+train['K6QO']+\\\n",
    "train['QBOL']+train['JWFN']+train['JZ9D']+train['J9JW']+\\\n",
    "train['GHYX']+train['ECY3']+train['8NN1']\n",
    "train['impact _of_previous_subscription'] = train['impact _of_previous_subscription'].astype(int)"
   ]
  },
  {
   "cell_type": "code",
   "execution_count": null,
   "metadata": {},
   "outputs": [],
   "source": []
  },
  {
   "cell_type": "code",
   "execution_count": 62,
   "metadata": {},
   "outputs": [
    {
     "data": {
      "text/plain": [
       "0       1\n",
       "1       2\n",
       "2       2\n",
       "3       1\n",
       "4       1\n",
       "       ..\n",
       "9995    2\n",
       "9996    1\n",
       "9997    1\n",
       "9998    1\n",
       "9999    1\n",
       "Name: impact _of_previous_subscription, Length: 10000, dtype: int32"
      ]
     },
     "execution_count": 62,
     "metadata": {},
     "output_type": "execute_result"
    }
   ],
   "source": [
    "test['impact _of_previous_subscription'] = test['P5DA'] + test['RIBP'] +\\\n",
    "test['7POT']+test['66FJ']+test['GYSR']+test['SOP4']+\\\n",
    "test['RVSZ']+test['PYUQ']+test['LJR9']+test['N2MW']+\\\n",
    "test['AHXO']+test['BSTQ']+test['FM3X']+test['K6QO']+\\\n",
    "test['QBOL']+test['JWFN']+test['JZ9D']+test['J9JW']+\\\n",
    "test['GHYX']+test['ECY3']+test['8NN1']\n",
    "test['impact _of_previous_subscription'] = test['impact _of_previous_subscription'].astype(int)\n",
    "test['impact _of_previous_subscription'] "
   ]
  },
  {
   "cell_type": "code",
   "execution_count": 63,
   "metadata": {},
   "outputs": [],
   "source": [
    "train=train.fillna(train.mode().iloc[0])\n",
    "test=test.fillna(test.mode().iloc[0])"
   ]
  },
  {
   "cell_type": "code",
   "execution_count": 64,
   "metadata": {},
   "outputs": [],
   "source": [
    "cols = ['ID', 'join_date', 'sex', 'marital_status', 'birth_year', 'branch_code',\n",
    "       'occupation_code','impact _of_previous_subscription','occupation_category_code',\n",
    "         'P5DA', 'RIBP', '8NN1','7POT', '66FJ', 'GYSR', 'SOP4', 'RVSZ', 'PYUQ', 'LJR9', \n",
    "         'N2MW', 'AHXO','BSTQ', 'FM3X', 'K6QO', 'QBOL', 'JWFN', 'JZ9D', 'J9JW', 'GHYX', 'ECY3']"
   ]
  },
  {
   "cell_type": "code",
   "execution_count": 65,
   "metadata": {},
   "outputs": [],
   "source": [
    "train = train[cols]\n",
    "test = test[cols]\n"
   ]
  },
  {
   "cell_type": "code",
   "execution_count": null,
   "metadata": {},
   "outputs": [],
   "source": []
  },
  {
   "cell_type": "code",
   "execution_count": 66,
   "metadata": {},
   "outputs": [],
   "source": [
    "#Axis Transformation\n",
    "train = train.melt(id_vars=train.columns[:9], value_vars=products, var_name = \"PCODE\", value_name=\"Label\" )\n",
    "test = test.melt(id_vars=test.columns[:9], value_vars=products, var_name = \"PCODE\", value_name=\"Label\" )"
   ]
  },
  {
   "cell_type": "code",
   "execution_count": 67,
   "metadata": {},
   "outputs": [
    {
     "data": {
      "text/html": [
       "<div>\n",
       "<style scoped>\n",
       "    .dataframe tbody tr th:only-of-type {\n",
       "        vertical-align: middle;\n",
       "    }\n",
       "\n",
       "    .dataframe tbody tr th {\n",
       "        vertical-align: top;\n",
       "    }\n",
       "\n",
       "    .dataframe thead th {\n",
       "        text-align: right;\n",
       "    }\n",
       "</style>\n",
       "<table border=\"1\" class=\"dataframe\">\n",
       "  <thead>\n",
       "    <tr style=\"text-align: right;\">\n",
       "      <th></th>\n",
       "      <th>ID</th>\n",
       "      <th>join_date</th>\n",
       "      <th>sex</th>\n",
       "      <th>marital_status</th>\n",
       "      <th>birth_year</th>\n",
       "      <th>branch_code</th>\n",
       "      <th>occupation_code</th>\n",
       "      <th>impact _of_previous_subscription</th>\n",
       "      <th>occupation_category_code</th>\n",
       "      <th>PCODE</th>\n",
       "      <th>Label</th>\n",
       "    </tr>\n",
       "  </thead>\n",
       "  <tbody>\n",
       "    <tr>\n",
       "      <th>0</th>\n",
       "      <td>4WKQSBB</td>\n",
       "      <td>2019-01-02</td>\n",
       "      <td>F</td>\n",
       "      <td>M</td>\n",
       "      <td>1987</td>\n",
       "      <td>1X1H</td>\n",
       "      <td>2A7I</td>\n",
       "      <td>2</td>\n",
       "      <td>T4MS</td>\n",
       "      <td>P5DA</td>\n",
       "      <td>0</td>\n",
       "    </tr>\n",
       "    <tr>\n",
       "      <th>1</th>\n",
       "      <td>CP5S02H</td>\n",
       "      <td>2019-01-06</td>\n",
       "      <td>F</td>\n",
       "      <td>M</td>\n",
       "      <td>1981</td>\n",
       "      <td>UAOD</td>\n",
       "      <td>2A7I</td>\n",
       "      <td>2</td>\n",
       "      <td>T4MS</td>\n",
       "      <td>P5DA</td>\n",
       "      <td>0</td>\n",
       "    </tr>\n",
       "    <tr>\n",
       "      <th>2</th>\n",
       "      <td>2YKDILJ</td>\n",
       "      <td>2013-01-06</td>\n",
       "      <td>M</td>\n",
       "      <td>U</td>\n",
       "      <td>1991</td>\n",
       "      <td>748L</td>\n",
       "      <td>QZYX</td>\n",
       "      <td>3</td>\n",
       "      <td>90QI</td>\n",
       "      <td>P5DA</td>\n",
       "      <td>0</td>\n",
       "    </tr>\n",
       "    <tr>\n",
       "      <th>3</th>\n",
       "      <td>2S9E81J</td>\n",
       "      <td>2019-01-08</td>\n",
       "      <td>M</td>\n",
       "      <td>M</td>\n",
       "      <td>1990</td>\n",
       "      <td>1X1H</td>\n",
       "      <td>BP09</td>\n",
       "      <td>2</td>\n",
       "      <td>56SI</td>\n",
       "      <td>P5DA</td>\n",
       "      <td>0</td>\n",
       "    </tr>\n",
       "    <tr>\n",
       "      <th>4</th>\n",
       "      <td>BHDYVFT</td>\n",
       "      <td>2019-01-08</td>\n",
       "      <td>M</td>\n",
       "      <td>M</td>\n",
       "      <td>1990</td>\n",
       "      <td>748L</td>\n",
       "      <td>NO3L</td>\n",
       "      <td>2</td>\n",
       "      <td>T4MS</td>\n",
       "      <td>P5DA</td>\n",
       "      <td>0</td>\n",
       "    </tr>\n",
       "  </tbody>\n",
       "</table>\n",
       "</div>"
      ],
      "text/plain": [
       "        ID  join_date sex marital_status  birth_year branch_code  \\\n",
       "0  4WKQSBB 2019-01-02   F              M        1987        1X1H   \n",
       "1  CP5S02H 2019-01-06   F              M        1981        UAOD   \n",
       "2  2YKDILJ 2013-01-06   M              U        1991        748L   \n",
       "3  2S9E81J 2019-01-08   M              M        1990        1X1H   \n",
       "4  BHDYVFT 2019-01-08   M              M        1990        748L   \n",
       "\n",
       "  occupation_code  impact _of_previous_subscription occupation_category_code  \\\n",
       "0            2A7I                                 2                     T4MS   \n",
       "1            2A7I                                 2                     T4MS   \n",
       "2            QZYX                                 3                     90QI   \n",
       "3            BP09                                 2                     56SI   \n",
       "4            NO3L                                 2                     T4MS   \n",
       "\n",
       "  PCODE  Label  \n",
       "0  P5DA      0  \n",
       "1  P5DA      0  \n",
       "2  P5DA      0  \n",
       "3  P5DA      0  \n",
       "4  P5DA      0  "
      ]
     },
     "execution_count": 67,
     "metadata": {},
     "output_type": "execute_result"
    }
   ],
   "source": [
    "train.head()"
   ]
  },
  {
   "cell_type": "code",
   "execution_count": 68,
   "metadata": {},
   "outputs": [],
   "source": [
    "#A merger\n",
    "train['combiner']='x'"
   ]
  },
  {
   "cell_type": "code",
   "execution_count": 69,
   "metadata": {},
   "outputs": [],
   "source": [
    "#Set\n",
    "data=pd.concat([train,test],sort=False).reset_index(drop=True)"
   ]
  },
  {
   "cell_type": "code",
   "execution_count": 70,
   "metadata": {},
   "outputs": [
    {
     "data": {
      "text/plain": [
       "ID                                  False\n",
       "join_date                           False\n",
       "sex                                 False\n",
       "marital_status                      False\n",
       "birth_year                          False\n",
       "branch_code                         False\n",
       "occupation_code                     False\n",
       "impact _of_previous_subscription    False\n",
       "occupation_category_code            False\n",
       "PCODE                               False\n",
       "Label                               False\n",
       "combiner                             True\n",
       "dtype: bool"
      ]
     },
     "execution_count": 70,
     "metadata": {},
     "output_type": "execute_result"
    }
   ],
   "source": [
    "#preview random 3 sample\n",
    "data.isnull().any()"
   ]
  },
  {
   "cell_type": "code",
   "execution_count": 71,
   "metadata": {},
   "outputs": [
    {
     "name": "stdout",
     "output_type": "stream",
     "text": [
      "====================================\n",
      "TRAIN LABEL DISTRIBUTION\n",
      "====================================\n",
      "0    545419\n",
      "1     66353\n",
      "Name: Label, dtype: int64\n",
      "====================================\n",
      "TEST LABEL DISTRIBUTION\n",
      "====================================\n",
      "0    197147\n",
      "1     12853\n",
      "Name: Label, dtype: int64\n",
      "====================================\n",
      "SAMPLE SUBMISSION LABEL DISTRIBUTION\n",
      "====================================\n",
      "0    197147\n",
      "1     12853\n",
      "Name: Label, dtype: int64\n"
     ]
    }
   ],
   "source": [
    "#Confirm Distribution (TEST AND SAMPLE SUBMISSION FILE)\n",
    "print('==' * 18);print('TRAIN LABEL DISTRIBUTION');print('==' * 18);print(train['Label'].value_counts())\n",
    "print('==' * 18);print('TEST LABEL DISTRIBUTION');print('==' * 18);print(test['Label'].value_counts())\n",
    "print('==' * 18);print('SAMPLE SUBMISSION LABEL DISTRIBUTION');print('==' * 18);print(submission['Label'].value_counts())"
   ]
  },
  {
   "cell_type": "code",
   "execution_count": 72,
   "metadata": {},
   "outputs": [
    {
     "name": "stdout",
     "output_type": "stream",
     "text": [
      "(611772, 11) (210000, 10) (210000, 2)\n"
     ]
    }
   ],
   "source": [
    "test_label = test\n",
    "train=data[data.combiner.notnull()].reset_index(drop=True);test=data[data.combiner.isna()].reset_index(drop=True)\n",
    "train.drop('combiner', inplace=True, axis=1);test.drop(['Label','combiner'], inplace=True, axis=1)\n",
    "print(train.shape, test.shape, submission.shape)"
   ]
  },
  {
   "cell_type": "code",
   "execution_count": 73,
   "metadata": {},
   "outputs": [],
   "source": [
    "#Concatenate new column towards submission requirement\n",
    "train['ID X PCODE'] = train['ID'] + ' X ' + train['PCODE'];test['ID X PCODE'] = test['ID'] + ' X ' + test['PCODE']"
   ]
  },
  {
   "cell_type": "code",
   "execution_count": 74,
   "metadata": {},
   "outputs": [],
   "source": [
    "#Re-arrange column (not necessary)\n",
    "train=train[['ID', 'join_date', 'sex', 'marital_status', 'birth_year', 'branch_code',\n",
    "       'occupation_code','impact _of_previous_subscription', 'occupation_category_code', 'PCODE','ID X PCODE',  'Label']]\n",
    "test=test[['ID', 'join_date', 'sex', 'marital_status', 'birth_year', 'branch_code',\n",
    "       'occupation_code','impact _of_previous_subscription', 'occupation_category_code', 'PCODE','ID X PCODE']]\n"
   ]
  },
  {
   "cell_type": "code",
   "execution_count": 75,
   "metadata": {},
   "outputs": [
    {
     "name": "stdout",
     "output_type": "stream",
     "text": [
      "Not in Test PCODE  []\n",
      "Not in Train PCODE  []\n",
      "============================================================\n",
      "Not in Test occupation_code  ['IE90', 'Q0LY', 'JSAX', '6XXU', '8HRZ', 'OQMY', 'INEJ', 'VZN9', 'UC7E', 'PSUY', 'WSRG', 'JQH3', 'LGTN', '738L', 'QQUP', '2XZ1', 'CAAV', 'LLLH', 'W1X2', 'DHSN', 'IX8T', '2US6', 'ZWPL', 'MEFQ', '9B5B', 'JUIP', 'BFD1', 'A4ZC', 'IMHI', 'E5PF', 'GZA8', '3YQ1', 'PJR4', 'NDL9', 'PPNK', '2686', '5LNN', '374O', 'URYD', 'M0WG', 'KBWO', 'ONY7', 'VYSA', 'KUPK', 'R7GL', 'HSVE', 'BER4', '6SKY', 'RH2K', 'ZHC2', 'W3ZV', 'FLXH', 'UYDZ', 'YJXM', '59QM']\n",
      "Not in Train occupation_code  ['0ZND', '8CHJ', '9F96', 'HSI5', '93OJ', 'BIA0', 'E2MJ', 'JBJP', '0FOI']\n",
      "============================================================\n",
      "Not in Test branch_code  []\n",
      "Not in Train branch_code  []\n",
      "============================================================\n",
      "Not in Test occupation_category_code  []\n",
      "Not in Train occupation_category_code  []\n",
      "============================================================\n"
     ]
    }
   ],
   "source": [
    "#Lets Check for data co-existence in Train/Test\n",
    "for col in ['PCODE','occupation_code', 'branch_code','occupation_category_code']:\n",
    "    train_col = train[col].unique();test_col = test[col].unique()\n",
    "    print ('Not in Test ' + col + ' ',[i  for i in train_col if i not in test_col])\n",
    "    print ('Not in Train ' + col + ' ',[i  for i in test_col  if i not in train_col]);print('==' * 30)"
   ]
  },
  {
   "cell_type": "code",
   "execution_count": 76,
   "metadata": {},
   "outputs": [],
   "source": [
    "options = ['0ZND', '8CHJ', '9F96', 'HSI5', '93OJ', 'BIA0', 'E2MJ', 'JBJP', '0FOI']\n",
    "\n",
    "len(test[test['occupation_code'].isin(options) ])\n",
    "test_opt = test[~(test['occupation_code'].isin(options)) ]"
   ]
  },
  {
   "cell_type": "code",
   "execution_count": 77,
   "metadata": {},
   "outputs": [
    {
     "data": {
      "text/plain": [
       "0"
      ]
     },
     "execution_count": 77,
     "metadata": {},
     "output_type": "execute_result"
    }
   ],
   "source": [
    "train.isnull().any().sum()"
   ]
  },
  {
   "cell_type": "code",
   "execution_count": 78,
   "metadata": {},
   "outputs": [
    {
     "data": {
      "text/plain": [
       "0"
      ]
     },
     "execution_count": 78,
     "metadata": {},
     "output_type": "execute_result"
    }
   ],
   "source": [
    "test.isnull().any().sum()"
   ]
  },
  {
   "cell_type": "code",
   "execution_count": 79,
   "metadata": {},
   "outputs": [],
   "source": [
    "# # LABEL ENCODE\n",
    "# def encode_LE(train,test,cols,verbose=True):\n",
    "#     for col in cols:\n",
    "#         df_comb = pd.concat([train[col],test[col]],axis=0)\n",
    "#         df_comb,_ = df_comb.factorize(sort=True)\n",
    "#         nm = col\n",
    "#         if df_comb.max()>32000: \n",
    "#             train[nm] = df_comb[:len(train)].astype('int32')\n",
    "#             test[nm] = df_comb[len(train):].astype('int32')\n",
    "#         else:\n",
    "#             train[nm] = df_comb[:len(train)].astype('int16')\n",
    "#             test[nm] = df_comb[len(train):].astype('int16')\n",
    "#         del df_comb; x=gc.collect()\n",
    "#         if verbose: print(nm,', ',end='')"
   ]
  },
  {
   "cell_type": "code",
   "execution_count": 55,
   "metadata": {},
   "outputs": [
    {
     "name": "stdout",
     "output_type": "stream",
     "text": [
      "ID , branch_code , occupation_code , occupation_category_code , PCODE , sex , marital_status , "
     ]
    }
   ],
   "source": [
    "encode_LE(train, test,['ID','branch_code', 'occupation_code','occupation_category_code','PCODE','sex','marital_status'])"
   ]
  },
  {
   "cell_type": "code",
   "execution_count": 80,
   "metadata": {},
   "outputs": [],
   "source": [
    "import datetime as dt\n",
    "train['day'] = train['join_date'].dt.day\n",
    "train['month'] = train['join_date'].dt.month\n",
    "train['year'] = train['join_date'].dt.year\n",
    "train.drop('join_date', axis=1, inplace=True)\n"
   ]
  },
  {
   "cell_type": "code",
   "execution_count": 81,
   "metadata": {},
   "outputs": [],
   "source": [
    "test.head()\n",
    "testk = test"
   ]
  },
  {
   "cell_type": "code",
   "execution_count": 82,
   "metadata": {},
   "outputs": [],
   "source": [
    "test['day'] = test['join_date'].dt.day\n",
    "test['month'] = test['join_date'].dt.month\n",
    "test['year'] = test['join_date'].dt.year\n",
    "test.drop('join_date', axis=1, inplace=True)\n",
    "\n",
    "\n",
    "test_opt['day'] = test_opt['join_date'].dt.day\n",
    "test_opt['month'] = test_opt['join_date'].dt.month\n",
    "test_opt['year'] = test_opt['join_date'].dt.year\n",
    "test_opt.drop('join_date', axis=1, inplace=True)\n"
   ]
  },
  {
   "cell_type": "code",
   "execution_count": 83,
   "metadata": {},
   "outputs": [
    {
     "data": {
      "text/html": [
       "<div>\n",
       "<style scoped>\n",
       "    .dataframe tbody tr th:only-of-type {\n",
       "        vertical-align: middle;\n",
       "    }\n",
       "\n",
       "    .dataframe tbody tr th {\n",
       "        vertical-align: top;\n",
       "    }\n",
       "\n",
       "    .dataframe thead th {\n",
       "        text-align: right;\n",
       "    }\n",
       "</style>\n",
       "<table border=\"1\" class=\"dataframe\">\n",
       "  <thead>\n",
       "    <tr style=\"text-align: right;\">\n",
       "      <th></th>\n",
       "      <th>ID</th>\n",
       "      <th>sex</th>\n",
       "      <th>marital_status</th>\n",
       "      <th>birth_year</th>\n",
       "      <th>branch_code</th>\n",
       "      <th>occupation_code</th>\n",
       "      <th>impact _of_previous_subscription</th>\n",
       "      <th>occupation_category_code</th>\n",
       "      <th>PCODE</th>\n",
       "      <th>ID X PCODE</th>\n",
       "      <th>day</th>\n",
       "      <th>month</th>\n",
       "      <th>year</th>\n",
       "    </tr>\n",
       "  </thead>\n",
       "  <tbody>\n",
       "    <tr>\n",
       "      <th>0</th>\n",
       "      <td>F86J5PC</td>\n",
       "      <td>M</td>\n",
       "      <td>M</td>\n",
       "      <td>1984</td>\n",
       "      <td>94KC</td>\n",
       "      <td>DZRV</td>\n",
       "      <td>1</td>\n",
       "      <td>90QI</td>\n",
       "      <td>P5DA</td>\n",
       "      <td>F86J5PC X P5DA</td>\n",
       "      <td>12</td>\n",
       "      <td>1</td>\n",
       "      <td>2018</td>\n",
       "    </tr>\n",
       "    <tr>\n",
       "      <th>1</th>\n",
       "      <td>H6141K3</td>\n",
       "      <td>M</td>\n",
       "      <td>M</td>\n",
       "      <td>1996</td>\n",
       "      <td>1X1H</td>\n",
       "      <td>J9SY</td>\n",
       "      <td>2</td>\n",
       "      <td>90QI</td>\n",
       "      <td>P5DA</td>\n",
       "      <td>H6141K3 X P5DA</td>\n",
       "      <td>10</td>\n",
       "      <td>1</td>\n",
       "      <td>2019</td>\n",
       "    </tr>\n",
       "    <tr>\n",
       "      <th>2</th>\n",
       "      <td>RBAYUXZ</td>\n",
       "      <td>F</td>\n",
       "      <td>W</td>\n",
       "      <td>1968</td>\n",
       "      <td>UAOD</td>\n",
       "      <td>2A7I</td>\n",
       "      <td>2</td>\n",
       "      <td>T4MS</td>\n",
       "      <td>P5DA</td>\n",
       "      <td>RBAYUXZ X P5DA</td>\n",
       "      <td>1</td>\n",
       "      <td>1</td>\n",
       "      <td>2020</td>\n",
       "    </tr>\n",
       "    <tr>\n",
       "      <th>3</th>\n",
       "      <td>KCBILBQ</td>\n",
       "      <td>M</td>\n",
       "      <td>M</td>\n",
       "      <td>1989</td>\n",
       "      <td>94KC</td>\n",
       "      <td>2A7I</td>\n",
       "      <td>1</td>\n",
       "      <td>T4MS</td>\n",
       "      <td>P5DA</td>\n",
       "      <td>KCBILBQ X P5DA</td>\n",
       "      <td>2</td>\n",
       "      <td>1</td>\n",
       "      <td>2019</td>\n",
       "    </tr>\n",
       "    <tr>\n",
       "      <th>4</th>\n",
       "      <td>LSEC1ZJ</td>\n",
       "      <td>F</td>\n",
       "      <td>M</td>\n",
       "      <td>1982</td>\n",
       "      <td>UAOD</td>\n",
       "      <td>0KID</td>\n",
       "      <td>1</td>\n",
       "      <td>T4MS</td>\n",
       "      <td>P5DA</td>\n",
       "      <td>LSEC1ZJ X P5DA</td>\n",
       "      <td>2</td>\n",
       "      <td>1</td>\n",
       "      <td>2020</td>\n",
       "    </tr>\n",
       "  </tbody>\n",
       "</table>\n",
       "</div>"
      ],
      "text/plain": [
       "        ID sex marital_status  birth_year branch_code occupation_code  \\\n",
       "0  F86J5PC   M              M        1984        94KC            DZRV   \n",
       "1  H6141K3   M              M        1996        1X1H            J9SY   \n",
       "2  RBAYUXZ   F              W        1968        UAOD            2A7I   \n",
       "3  KCBILBQ   M              M        1989        94KC            2A7I   \n",
       "4  LSEC1ZJ   F              M        1982        UAOD            0KID   \n",
       "\n",
       "   impact _of_previous_subscription occupation_category_code PCODE  \\\n",
       "0                                 1                     90QI  P5DA   \n",
       "1                                 2                     90QI  P5DA   \n",
       "2                                 2                     T4MS  P5DA   \n",
       "3                                 1                     T4MS  P5DA   \n",
       "4                                 1                     T4MS  P5DA   \n",
       "\n",
       "       ID X PCODE  day  month  year  \n",
       "0  F86J5PC X P5DA   12      1  2018  \n",
       "1  H6141K3 X P5DA   10      1  2019  \n",
       "2  RBAYUXZ X P5DA    1      1  2020  \n",
       "3  KCBILBQ X P5DA    2      1  2019  \n",
       "4  LSEC1ZJ X P5DA    2      1  2020  "
      ]
     },
     "execution_count": 83,
     "metadata": {},
     "output_type": "execute_result"
    }
   ],
   "source": [
    "test.head()"
   ]
  },
  {
   "cell_type": "markdown",
   "metadata": {},
   "source": [
    "# TRAIN AND TEST FILE PREPARED"
   ]
  },
  {
   "cell_type": "code",
   "execution_count": 84,
   "metadata": {},
   "outputs": [
    {
     "data": {
      "text/plain": [
       "0         F86J5PC X P5DA\n",
       "1         H6141K3 X P5DA\n",
       "2         RBAYUXZ X P5DA\n",
       "3         KCBILBQ X P5DA\n",
       "4         LSEC1ZJ X P5DA\n",
       "               ...      \n",
       "209995    0GMU5UH X ECY3\n",
       "209996    I9W11CD X ECY3\n",
       "209997    42WTEGT X ECY3\n",
       "209998    8EKC4O9 X ECY3\n",
       "209999    WHII93K X ECY3\n",
       "Name: ID X PCODE, Length: 210000, dtype: object"
      ]
     },
     "execution_count": 84,
     "metadata": {},
     "output_type": "execute_result"
    }
   ],
   "source": [
    "t = test['ID X PCODE']\n",
    "t"
   ]
  },
  {
   "cell_type": "code",
   "execution_count": 85,
   "metadata": {},
   "outputs": [],
   "source": [
    "drop_col = ['ID','ID X PCODE']\n",
    "outlier_col = data.select_dtypes(include=['int64', 'float64']).columns #non catagorical columns\n"
   ]
  },
  {
   "cell_type": "code",
   "execution_count": 86,
   "metadata": {},
   "outputs": [],
   "source": [
    "train_new = train\n",
    "test_new = test\n",
    "train.drop(drop_col,axis=1,inplace= True)\n",
    "test.drop(drop_col,axis=1,inplace= True)"
   ]
  },
  {
   "cell_type": "code",
   "execution_count": null,
   "metadata": {},
   "outputs": [],
   "source": []
  },
  {
   "cell_type": "code",
   "execution_count": 313,
   "metadata": {},
   "outputs": [
    {
     "name": "stdout",
     "output_type": "stream",
     "text": [
      "\n",
      "---- Scaling the data based on MinMaxScaler()\n"
     ]
    }
   ],
   "source": [
    "from sklearn.preprocessing import StandardScaler,MinMaxScaler\n",
    "\n",
    "def scaler(data, scaler= MinMaxScaler()): # not implmented in optimized way yet\n",
    "        data[:] = scaler.fit_transform(data[:]) #scaleing the given data\n",
    "#         self.data = data\n",
    "        print(\"\\n---- Scaling the data based on\",scaler)\n",
    "        return data\n",
    "    \n",
    "train_n = scaler(train)\n"
   ]
  },
  {
   "cell_type": "code",
   "execution_count": 314,
   "metadata": {},
   "outputs": [
    {
     "name": "stdout",
     "output_type": "stream",
     "text": [
      "\n",
      "---- Scaling the data based on MinMaxScaler()\n"
     ]
    }
   ],
   "source": [
    "test_n =scaler(test)"
   ]
  },
  {
   "cell_type": "code",
   "execution_count": 87,
   "metadata": {},
   "outputs": [],
   "source": [
    "from sklearn import preprocessing \n",
    "from sklearn.linear_model import LogisticRegression\n",
    "from sklearn.tree import DecisionTreeClassifier\n",
    "import xgboost as xgb\n",
    "from sklearn.ensemble import RandomForestClassifier\n",
    "from sklearn.model_selection import StratifiedKFold\n",
    "from sklearn.model_selection import cross_val_score\n",
    "from sklearn.ensemble import AdaBoostClassifier, GradientBoostingClassifier\n",
    "\n",
    "import scipy.stats as stat\n",
    "from sklearn import svm\n",
    "\n",
    "from sklearn.metrics import *\n",
    "import datetime\n",
    "\n",
    "\n",
    "k_fold = StratifiedKFold(n_splits=5, shuffle=True, random_state=1)"
   ]
  },
  {
   "cell_type": "code",
   "execution_count": 88,
   "metadata": {},
   "outputs": [],
   "source": [
    "def get_eff_model(y_test,y_pred):\n",
    "        \n",
    "            metrics = pd.DataFrame()\n",
    "#             metrics[\"MSE\"] = mean_squared_error(self.y_test,self.y_pred)\n",
    "            metrics[\"Loss\"] = log_loss(y_test,y_pred)\n",
    "#             metrics[\"Score\"] = -(r2_score(y_test,y_pred))\n",
    "#             metrics[\"Kappa\"] = cohen_kappa_score(self.y_test, self.y_pred)\n",
    "#             metrics[\"ROC_Auc\"] = roc_auc_score(y_test, y_pred)\n",
    "#             metrics[\"precision\"] = precision_score(self.y_test, self.y_pred)\n",
    "#             metrics[\"recall\"] = recall_score(self.y_test, self.y_pred)\n",
    "#             metrics[\"f1_score\"] = f1_score(self.y_test, self.y_pred)\n",
    "#             metrics[\"accuracy\"] = accuracy_score(y_test, y_pred)\n",
    "        \n",
    "\n",
    "        \n",
    "            return metrics"
   ]
  },
  {
   "cell_type": "code",
   "execution_count": 89,
   "metadata": {},
   "outputs": [],
   "source": [
    "def make_it_stratified(data,target,model_name):\n",
    "        X = data.drop(target,axis=1).values\n",
    "        y=(data[target]).values.ravel()\n",
    " \n",
    "        eff_kfold =[]\n",
    "        eff =[]\n",
    "        model_pred = []\n",
    "        kfold = StratifiedKFold(n_splits=5, shuffle=True, random_state=1)\n",
    "                       \n",
    "                       \n",
    "                       \n",
    "        if model_name== \"RandomForestClassifier\":\n",
    "            model = RandomForestClassifier()\n",
    "        elif model_name == \"LogisticRegression\":\n",
    "            model = LogisticRegression(solver='saga', random_state=0)\n",
    "        elif model_name == \"DecisionTreeClassifier\":\n",
    "            model = DecisionTreeClassifier()\n",
    "        elif model_name == \"XG_Boost\":\n",
    "            \n",
    "            model = xgb.XGBClassifier()\n",
    "        elif model_name ==\"Multilayer Perceptron\":\n",
    "            print(\"not implemented yet\")\n",
    "        elif model_name == \"svm\" :\n",
    "            model = svm.SVC(kernel='linear', C=0.01)\n",
    "        elif model_name == \"adboost\":\n",
    "            model =AdaBoostClassifier()\n",
    "        elif model_name == \"gradienBoost\":\n",
    "            model = GradientBoostingClassifier()\n",
    "                       \n",
    "\n",
    "        #enumerate the splits and summarize the distributions\n",
    "        i=0\n",
    "        for train_ix, test_ix in kfold.split(X, y):\n",
    "            i =i+1\n",
    "            print(\"k_fold -{}   with {} model\".format(i,model_name))\n",
    "\n",
    "           \n",
    "     \n",
    "            # select rows\n",
    "            X_train,X_test = X[train_ix], X[test_ix]\n",
    "            y_train, y_test = y[train_ix], y[test_ix]\n",
    "\n",
    "            model = model.fit(X_train,y_train)\n",
    "            y_pred = model.predict_proba(X_test)[:,1]\n",
    "            pred = model.predict(X_test)\n",
    "\n",
    "     \n",
    "            print(\"k_fold -{}   with {} end!\".format(i,model_name))\n",
    "        print(\"log loss\",log_loss(y_test,y_pred))\n",
    "        print(\"accuracy\",accuracy_score(y_test, pred))\n",
    "\n",
    "        return model\n",
    "            \n",
    "#         df_eff = pd.concat(eff)\n",
    "#         df_eff =pd.DataFrame(df_eff.mean()).transpose()\n",
    "#         df_eff.index=[model_name]\n",
    "\n",
    "       \n"
   ]
  },
  {
   "cell_type": "code",
   "execution_count": 90,
   "metadata": {},
   "outputs": [],
   "source": [
    "classifiers =[\"RandomForestClassifier\",\"LogisticRegression\",\n",
    "              \"DecisionTreeClassifier\", \"XG_Boost\",\"gradienBoost\",\"adboost\"]"
   ]
  },
  {
   "cell_type": "code",
   "execution_count": 91,
   "metadata": {},
   "outputs": [
    {
     "data": {
      "text/plain": [
       "Index(['sex', 'marital_status', 'branch_code', 'occupation_code',\n",
       "       'occupation_category_code', 'PCODE'],\n",
       "      dtype='object')"
      ]
     },
     "execution_count": 91,
     "metadata": {},
     "output_type": "execute_result"
    }
   ],
   "source": [
    "train.head()\n",
    "non_cat_col = train.select_dtypes(include=['int64','int32', 'float64']).columns # non catagorical variable\n",
    "cat_col = train.select_dtypes(exclude=['int64','int32', 'float64']).columns #  catagorical variable\n",
    "# train.info()\n",
    "cat_col"
   ]
  },
  {
   "cell_type": "code",
   "execution_count": 92,
   "metadata": {},
   "outputs": [],
   "source": [
    "from sklearn.model_selection import train_test_split\n",
    "\n",
    "X = train.drop('Label',axis=1)\n",
    "y=(train['Label'])\n",
    "\n",
    "X_train, X_test, y_train, y_test = train_test_split(X, y, test_size=0.1,stratify =y,random_state=1)#use stratified kfold distribution for imbalanced class distributin\n"
   ]
  },
  {
   "cell_type": "code",
   "execution_count": 93,
   "metadata": {},
   "outputs": [
    {
     "data": {
      "text/plain": [
       "(611772, 12)"
      ]
     },
     "execution_count": 93,
     "metadata": {},
     "output_type": "execute_result"
    }
   ],
   "source": [
    "train.shape"
   ]
  },
  {
   "cell_type": "code",
   "execution_count": 94,
   "metadata": {},
   "outputs": [
    {
     "data": {
      "text/plain": [
       "<catboost.core.CatBoostClassifier at 0x2f4b9d937b8>"
      ]
     },
     "execution_count": 94,
     "metadata": {},
     "output_type": "execute_result"
    }
   ],
   "source": [
    "from catboost import CatBoostClassifier\n",
    "\n",
    "clf = CatBoostClassifier(\n",
    "    iterations=50, \n",
    "    learning_rate=0.1, \n",
    "    custom_loss=['AUC', 'Accuracy']\n",
    ")\n",
    "\n",
    "\n",
    "clf.fit(X_train, y_train, \n",
    "        cat_features=cat_col, \n",
    "        eval_set=(X_test, y_test), \n",
    "        verbose=False,\n",
    "#         plot=True\n",
    "\n",
    ")\n",
    "\n",
    "# print('CatBoost model is fitted: ' + str(clf.is_fitted()))\n",
    "# print('CatBoost model parameters:')\n",
    "# print(clf.get_params())"
   ]
  },
  {
   "cell_type": "code",
   "execution_count": 95,
   "metadata": {},
   "outputs": [
    {
     "name": "stdout",
     "output_type": "stream",
     "text": [
      "CatBoost model is fitted: True\n",
      "CatBoost model parameters:\n",
      "{'custom_loss': ['AUC', 'Accuracy'], 'learning_rate': 0.1, 'iterations': 50}\n"
     ]
    }
   ],
   "source": [
    "print('CatBoost model is fitted: ' + str(clf.is_fitted()))\n",
    "print('CatBoost model parameters:')\n",
    "print(clf.get_params())"
   ]
  },
  {
   "cell_type": "code",
   "execution_count": 96,
   "metadata": {},
   "outputs": [
    {
     "name": "stdout",
     "output_type": "stream",
     "text": [
      "1.4119807156673576\n"
     ]
    }
   ],
   "source": [
    "y_pred = clf.predict(data=X_test)\n",
    "print(log_loss(y_test,y_pred))"
   ]
  },
  {
   "cell_type": "code",
   "execution_count": 326,
   "metadata": {},
   "outputs": [
    {
     "data": {
      "text/plain": [
       "XGBClassifier()"
      ]
     },
     "execution_count": 326,
     "metadata": {},
     "output_type": "execute_result"
    }
   ],
   "source": [
    "clf.g\n",
    "# for classifier in classifiers:\n",
    "# dmodel = make_it_stratified(train_n,'Label',\"XG_Boost\")\n",
    "\n",
    "\n",
    "\n",
    "model = xgb.XGBClassifier()\n",
    "\n",
    "model.fit(X,y)\n",
    "\n",
    "# X = train_n.drop('Label',axis=1).values\n",
    "# train_n.isnull().any()"
   ]
  },
  {
   "cell_type": "code",
   "execution_count": 328,
   "metadata": {},
   "outputs": [],
   "source": [
    "pred = model.predict_proba(test_n)[:,1]\n",
    "\n"
   ]
  },
  {
   "cell_type": "code",
   "execution_count": null,
   "metadata": {},
   "outputs": [],
   "source": [
    "clf"
   ]
  },
  {
   "cell_type": "code",
   "execution_count": 323,
   "metadata": {},
   "outputs": [],
   "source": [
    "# testk =pd.read_csv(data_path + tests, parse_dates=['join_date'])\n",
    "# testk = testk.melt(id_vars=testk.columns[:8], value_vars=products, var_name = \"PCODE\", value_name=\"Label\" )\n",
    "# tesk testk[testk[\"Label\"] == 1].counts()\n",
    "# testk[\"Label\"] \n"
   ]
  },
  {
   "cell_type": "code",
   "execution_count": 330,
   "metadata": {},
   "outputs": [
    {
     "data": {
      "text/html": [
       "<div>\n",
       "<style scoped>\n",
       "    .dataframe tbody tr th:only-of-type {\n",
       "        vertical-align: middle;\n",
       "    }\n",
       "\n",
       "    .dataframe tbody tr th {\n",
       "        vertical-align: top;\n",
       "    }\n",
       "\n",
       "    .dataframe thead th {\n",
       "        text-align: right;\n",
       "    }\n",
       "</style>\n",
       "<table border=\"1\" class=\"dataframe\">\n",
       "  <thead>\n",
       "    <tr style=\"text-align: right;\">\n",
       "      <th></th>\n",
       "      <th>ID X PCODE</th>\n",
       "      <th>Label</th>\n",
       "    </tr>\n",
       "  </thead>\n",
       "  <tbody>\n",
       "    <tr>\n",
       "      <th>0</th>\n",
       "      <td>F86J5PC X P5DA</td>\n",
       "      <td>0.019085</td>\n",
       "    </tr>\n",
       "    <tr>\n",
       "      <th>1</th>\n",
       "      <td>H6141K3 X P5DA</td>\n",
       "      <td>0.029368</td>\n",
       "    </tr>\n",
       "    <tr>\n",
       "      <th>2</th>\n",
       "      <td>RBAYUXZ X P5DA</td>\n",
       "      <td>0.025138</td>\n",
       "    </tr>\n",
       "    <tr>\n",
       "      <th>3</th>\n",
       "      <td>KCBILBQ X P5DA</td>\n",
       "      <td>0.019085</td>\n",
       "    </tr>\n",
       "    <tr>\n",
       "      <th>4</th>\n",
       "      <td>LSEC1ZJ X P5DA</td>\n",
       "      <td>0.015259</td>\n",
       "    </tr>\n",
       "    <tr>\n",
       "      <th>5</th>\n",
       "      <td>EK65KRH X P5DA</td>\n",
       "      <td>0.016882</td>\n",
       "    </tr>\n",
       "    <tr>\n",
       "      <th>6</th>\n",
       "      <td>M3N7TLU X P5DA</td>\n",
       "      <td>0.030203</td>\n",
       "    </tr>\n",
       "    <tr>\n",
       "      <th>7</th>\n",
       "      <td>QAC6HOX X P5DA</td>\n",
       "      <td>0.030203</td>\n",
       "    </tr>\n",
       "    <tr>\n",
       "      <th>8</th>\n",
       "      <td>T8B9JK0 X P5DA</td>\n",
       "      <td>0.019085</td>\n",
       "    </tr>\n",
       "    <tr>\n",
       "      <th>9</th>\n",
       "      <td>62M79HM X P5DA</td>\n",
       "      <td>0.016142</td>\n",
       "    </tr>\n",
       "    <tr>\n",
       "      <th>10</th>\n",
       "      <td>VIFSSA7 X P5DA</td>\n",
       "      <td>0.027383</td>\n",
       "    </tr>\n",
       "    <tr>\n",
       "      <th>11</th>\n",
       "      <td>I8ONWLM X P5DA</td>\n",
       "      <td>0.021105</td>\n",
       "    </tr>\n",
       "    <tr>\n",
       "      <th>12</th>\n",
       "      <td>B0FID1U X P5DA</td>\n",
       "      <td>0.013841</td>\n",
       "    </tr>\n",
       "    <tr>\n",
       "      <th>13</th>\n",
       "      <td>ZHVYJ0A X P5DA</td>\n",
       "      <td>0.025138</td>\n",
       "    </tr>\n",
       "    <tr>\n",
       "      <th>14</th>\n",
       "      <td>1IWADO4 X P5DA</td>\n",
       "      <td>0.012724</td>\n",
       "    </tr>\n",
       "    <tr>\n",
       "      <th>15</th>\n",
       "      <td>2PAL7JV X P5DA</td>\n",
       "      <td>0.020214</td>\n",
       "    </tr>\n",
       "    <tr>\n",
       "      <th>16</th>\n",
       "      <td>29RYY4N X P5DA</td>\n",
       "      <td>0.021105</td>\n",
       "    </tr>\n",
       "    <tr>\n",
       "      <th>17</th>\n",
       "      <td>X9NBDB4 X P5DA</td>\n",
       "      <td>0.026578</td>\n",
       "    </tr>\n",
       "    <tr>\n",
       "      <th>18</th>\n",
       "      <td>UITK6GR X P5DA</td>\n",
       "      <td>0.016142</td>\n",
       "    </tr>\n",
       "    <tr>\n",
       "      <th>19</th>\n",
       "      <td>JONQI5H X P5DA</td>\n",
       "      <td>0.017061</td>\n",
       "    </tr>\n",
       "    <tr>\n",
       "      <th>20</th>\n",
       "      <td>ZV7EC7L X P5DA</td>\n",
       "      <td>0.021105</td>\n",
       "    </tr>\n",
       "    <tr>\n",
       "      <th>21</th>\n",
       "      <td>BWT1QRH X P5DA</td>\n",
       "      <td>0.023974</td>\n",
       "    </tr>\n",
       "    <tr>\n",
       "      <th>22</th>\n",
       "      <td>C285E9K X P5DA</td>\n",
       "      <td>0.025901</td>\n",
       "    </tr>\n",
       "    <tr>\n",
       "      <th>23</th>\n",
       "      <td>BZH5P4P X P5DA</td>\n",
       "      <td>0.016142</td>\n",
       "    </tr>\n",
       "    <tr>\n",
       "      <th>24</th>\n",
       "      <td>2OQOFQT X P5DA</td>\n",
       "      <td>0.017857</td>\n",
       "    </tr>\n",
       "    <tr>\n",
       "      <th>25</th>\n",
       "      <td>I58UV5Q X P5DA</td>\n",
       "      <td>0.025138</td>\n",
       "    </tr>\n",
       "    <tr>\n",
       "      <th>26</th>\n",
       "      <td>XGUUGI1 X P5DA</td>\n",
       "      <td>0.039682</td>\n",
       "    </tr>\n",
       "    <tr>\n",
       "      <th>27</th>\n",
       "      <td>EMVH2HP X P5DA</td>\n",
       "      <td>0.023235</td>\n",
       "    </tr>\n",
       "    <tr>\n",
       "      <th>28</th>\n",
       "      <td>W019HSR X P5DA</td>\n",
       "      <td>0.019085</td>\n",
       "    </tr>\n",
       "    <tr>\n",
       "      <th>29</th>\n",
       "      <td>7J868QB X P5DA</td>\n",
       "      <td>0.016142</td>\n",
       "    </tr>\n",
       "    <tr>\n",
       "      <th>...</th>\n",
       "      <td>...</td>\n",
       "      <td>...</td>\n",
       "    </tr>\n",
       "    <tr>\n",
       "      <th>209970</th>\n",
       "      <td>06MNLFX X ECY3</td>\n",
       "      <td>0.133994</td>\n",
       "    </tr>\n",
       "    <tr>\n",
       "      <th>209971</th>\n",
       "      <td>F07AKU0 X ECY3</td>\n",
       "      <td>0.041681</td>\n",
       "    </tr>\n",
       "    <tr>\n",
       "      <th>209972</th>\n",
       "      <td>2TN515B X ECY3</td>\n",
       "      <td>0.008369</td>\n",
       "    </tr>\n",
       "    <tr>\n",
       "      <th>209973</th>\n",
       "      <td>KF34VE7 X ECY3</td>\n",
       "      <td>0.179208</td>\n",
       "    </tr>\n",
       "    <tr>\n",
       "      <th>209974</th>\n",
       "      <td>XS99L2P X ECY3</td>\n",
       "      <td>0.041681</td>\n",
       "    </tr>\n",
       "    <tr>\n",
       "      <th>209975</th>\n",
       "      <td>RKCJE73 X ECY3</td>\n",
       "      <td>0.041681</td>\n",
       "    </tr>\n",
       "    <tr>\n",
       "      <th>209976</th>\n",
       "      <td>DCM38DC X ECY3</td>\n",
       "      <td>0.041681</td>\n",
       "    </tr>\n",
       "    <tr>\n",
       "      <th>209977</th>\n",
       "      <td>2TR45MI X ECY3</td>\n",
       "      <td>0.041681</td>\n",
       "    </tr>\n",
       "    <tr>\n",
       "      <th>209978</th>\n",
       "      <td>WJTFXC7 X ECY3</td>\n",
       "      <td>0.118389</td>\n",
       "    </tr>\n",
       "    <tr>\n",
       "      <th>209979</th>\n",
       "      <td>E6FQUOH X ECY3</td>\n",
       "      <td>0.118389</td>\n",
       "    </tr>\n",
       "    <tr>\n",
       "      <th>209980</th>\n",
       "      <td>GHLPZO4 X ECY3</td>\n",
       "      <td>0.008369</td>\n",
       "    </tr>\n",
       "    <tr>\n",
       "      <th>209981</th>\n",
       "      <td>C4KR6MK X ECY3</td>\n",
       "      <td>0.008369</td>\n",
       "    </tr>\n",
       "    <tr>\n",
       "      <th>209982</th>\n",
       "      <td>P0D700T X ECY3</td>\n",
       "      <td>0.041681</td>\n",
       "    </tr>\n",
       "    <tr>\n",
       "      <th>209983</th>\n",
       "      <td>BJEXXMJ X ECY3</td>\n",
       "      <td>0.056593</td>\n",
       "    </tr>\n",
       "    <tr>\n",
       "      <th>209984</th>\n",
       "      <td>T5SVCEM X ECY3</td>\n",
       "      <td>0.011859</td>\n",
       "    </tr>\n",
       "    <tr>\n",
       "      <th>209985</th>\n",
       "      <td>3RGTJLW X ECY3</td>\n",
       "      <td>0.077059</td>\n",
       "    </tr>\n",
       "    <tr>\n",
       "      <th>209986</th>\n",
       "      <td>7C5ISCZ X ECY3</td>\n",
       "      <td>0.008369</td>\n",
       "    </tr>\n",
       "    <tr>\n",
       "      <th>209987</th>\n",
       "      <td>P3GEQX9 X ECY3</td>\n",
       "      <td>0.118389</td>\n",
       "    </tr>\n",
       "    <tr>\n",
       "      <th>209988</th>\n",
       "      <td>WMZ23WU X ECY3</td>\n",
       "      <td>0.041681</td>\n",
       "    </tr>\n",
       "    <tr>\n",
       "      <th>209989</th>\n",
       "      <td>580WRY1 X ECY3</td>\n",
       "      <td>0.041681</td>\n",
       "    </tr>\n",
       "    <tr>\n",
       "      <th>209990</th>\n",
       "      <td>E5UNMF2 X ECY3</td>\n",
       "      <td>0.166782</td>\n",
       "    </tr>\n",
       "    <tr>\n",
       "      <th>209991</th>\n",
       "      <td>W5L095K X ECY3</td>\n",
       "      <td>0.008369</td>\n",
       "    </tr>\n",
       "    <tr>\n",
       "      <th>209992</th>\n",
       "      <td>8RXBQ1N X ECY3</td>\n",
       "      <td>0.014248</td>\n",
       "    </tr>\n",
       "    <tr>\n",
       "      <th>209993</th>\n",
       "      <td>50FTH77 X ECY3</td>\n",
       "      <td>0.008369</td>\n",
       "    </tr>\n",
       "    <tr>\n",
       "      <th>209994</th>\n",
       "      <td>9RUOW2K X ECY3</td>\n",
       "      <td>0.041681</td>\n",
       "    </tr>\n",
       "    <tr>\n",
       "      <th>209995</th>\n",
       "      <td>0GMU5UH X ECY3</td>\n",
       "      <td>0.136848</td>\n",
       "    </tr>\n",
       "    <tr>\n",
       "      <th>209996</th>\n",
       "      <td>I9W11CD X ECY3</td>\n",
       "      <td>0.008369</td>\n",
       "    </tr>\n",
       "    <tr>\n",
       "      <th>209997</th>\n",
       "      <td>42WTEGT X ECY3</td>\n",
       "      <td>0.041681</td>\n",
       "    </tr>\n",
       "    <tr>\n",
       "      <th>209998</th>\n",
       "      <td>8EKC4O9 X ECY3</td>\n",
       "      <td>0.010592</td>\n",
       "    </tr>\n",
       "    <tr>\n",
       "      <th>209999</th>\n",
       "      <td>WHII93K X ECY3</td>\n",
       "      <td>0.041681</td>\n",
       "    </tr>\n",
       "  </tbody>\n",
       "</table>\n",
       "<p>210000 rows × 2 columns</p>\n",
       "</div>"
      ],
      "text/plain": [
       "            ID X PCODE     Label\n",
       "0       F86J5PC X P5DA  0.019085\n",
       "1       H6141K3 X P5DA  0.029368\n",
       "2       RBAYUXZ X P5DA  0.025138\n",
       "3       KCBILBQ X P5DA  0.019085\n",
       "4       LSEC1ZJ X P5DA  0.015259\n",
       "5       EK65KRH X P5DA  0.016882\n",
       "6       M3N7TLU X P5DA  0.030203\n",
       "7       QAC6HOX X P5DA  0.030203\n",
       "8       T8B9JK0 X P5DA  0.019085\n",
       "9       62M79HM X P5DA  0.016142\n",
       "10      VIFSSA7 X P5DA  0.027383\n",
       "11      I8ONWLM X P5DA  0.021105\n",
       "12      B0FID1U X P5DA  0.013841\n",
       "13      ZHVYJ0A X P5DA  0.025138\n",
       "14      1IWADO4 X P5DA  0.012724\n",
       "15      2PAL7JV X P5DA  0.020214\n",
       "16      29RYY4N X P5DA  0.021105\n",
       "17      X9NBDB4 X P5DA  0.026578\n",
       "18      UITK6GR X P5DA  0.016142\n",
       "19      JONQI5H X P5DA  0.017061\n",
       "20      ZV7EC7L X P5DA  0.021105\n",
       "21      BWT1QRH X P5DA  0.023974\n",
       "22      C285E9K X P5DA  0.025901\n",
       "23      BZH5P4P X P5DA  0.016142\n",
       "24      2OQOFQT X P5DA  0.017857\n",
       "25      I58UV5Q X P5DA  0.025138\n",
       "26      XGUUGI1 X P5DA  0.039682\n",
       "27      EMVH2HP X P5DA  0.023235\n",
       "28      W019HSR X P5DA  0.019085\n",
       "29      7J868QB X P5DA  0.016142\n",
       "...                ...       ...\n",
       "209970  06MNLFX X ECY3  0.133994\n",
       "209971  F07AKU0 X ECY3  0.041681\n",
       "209972  2TN515B X ECY3  0.008369\n",
       "209973  KF34VE7 X ECY3  0.179208\n",
       "209974  XS99L2P X ECY3  0.041681\n",
       "209975  RKCJE73 X ECY3  0.041681\n",
       "209976  DCM38DC X ECY3  0.041681\n",
       "209977  2TR45MI X ECY3  0.041681\n",
       "209978  WJTFXC7 X ECY3  0.118389\n",
       "209979  E6FQUOH X ECY3  0.118389\n",
       "209980  GHLPZO4 X ECY3  0.008369\n",
       "209981  C4KR6MK X ECY3  0.008369\n",
       "209982  P0D700T X ECY3  0.041681\n",
       "209983  BJEXXMJ X ECY3  0.056593\n",
       "209984  T5SVCEM X ECY3  0.011859\n",
       "209985  3RGTJLW X ECY3  0.077059\n",
       "209986  7C5ISCZ X ECY3  0.008369\n",
       "209987  P3GEQX9 X ECY3  0.118389\n",
       "209988  WMZ23WU X ECY3  0.041681\n",
       "209989  580WRY1 X ECY3  0.041681\n",
       "209990  E5UNMF2 X ECY3  0.166782\n",
       "209991  W5L095K X ECY3  0.008369\n",
       "209992  8RXBQ1N X ECY3  0.014248\n",
       "209993  50FTH77 X ECY3  0.008369\n",
       "209994  9RUOW2K X ECY3  0.041681\n",
       "209995  0GMU5UH X ECY3  0.136848\n",
       "209996  I9W11CD X ECY3  0.008369\n",
       "209997  42WTEGT X ECY3  0.041681\n",
       "209998  8EKC4O9 X ECY3  0.010592\n",
       "209999  WHII93K X ECY3  0.041681\n",
       "\n",
       "[210000 rows x 2 columns]"
      ]
     },
     "execution_count": 330,
     "metadata": {},
     "output_type": "execute_result"
    }
   ],
   "source": [
    "df = pd.DataFrame(t)\n",
    "df[\"Label\"] = pred\n",
    "df"
   ]
  },
  {
   "cell_type": "code",
   "execution_count": 331,
   "metadata": {},
   "outputs": [],
   "source": [
    "df.to_csv(\"Zimint-challeng-Baseline-4.csv\")"
   ]
  },
  {
   "cell_type": "code",
   "execution_count": null,
   "metadata": {},
   "outputs": [],
   "source": []
  },
  {
   "cell_type": "code",
   "execution_count": 116,
   "metadata": {},
   "outputs": [],
   "source": [
    "df_new.to_csv(\"t.csv\",index=False)"
   ]
  },
  {
   "cell_type": "code",
   "execution_count": 115,
   "metadata": {},
   "outputs": [
    {
     "data": {
      "text/html": [
       "<div>\n",
       "<style scoped>\n",
       "    .dataframe tbody tr th:only-of-type {\n",
       "        vertical-align: middle;\n",
       "    }\n",
       "\n",
       "    .dataframe tbody tr th {\n",
       "        vertical-align: top;\n",
       "    }\n",
       "\n",
       "    .dataframe thead th {\n",
       "        text-align: right;\n",
       "    }\n",
       "</style>\n",
       "<table border=\"1\" class=\"dataframe\">\n",
       "  <thead>\n",
       "    <tr style=\"text-align: right;\">\n",
       "      <th></th>\n",
       "      <th>ID X PCODE</th>\n",
       "      <th>Label</th>\n",
       "    </tr>\n",
       "    <tr>\n",
       "      <th>ID X PCODE</th>\n",
       "      <th></th>\n",
       "      <th></th>\n",
       "    </tr>\n",
       "  </thead>\n",
       "  <tbody>\n",
       "  </tbody>\n",
       "</table>\n",
       "</div>"
      ],
      "text/plain": [
       "Empty DataFrame\n",
       "Columns: [ID X PCODE, Label]\n",
       "Index: []"
      ]
     },
     "execution_count": 115,
     "metadata": {},
     "output_type": "execute_result"
    }
   ],
   "source": [
    "df_new.set_index(df_new['ID X PCODE'])"
   ]
  },
  {
   "cell_type": "code",
   "execution_count": 112,
   "metadata": {},
   "outputs": [
    {
     "data": {
      "text/html": [
       "<div>\n",
       "<style scoped>\n",
       "    .dataframe tbody tr th:only-of-type {\n",
       "        vertical-align: middle;\n",
       "    }\n",
       "\n",
       "    .dataframe tbody tr th {\n",
       "        vertical-align: top;\n",
       "    }\n",
       "\n",
       "    .dataframe thead th {\n",
       "        text-align: right;\n",
       "    }\n",
       "</style>\n",
       "<table border=\"1\" class=\"dataframe\">\n",
       "  <thead>\n",
       "    <tr style=\"text-align: right;\">\n",
       "      <th></th>\n",
       "      <th>ID X PCODE</th>\n",
       "      <th>Label</th>\n",
       "    </tr>\n",
       "  </thead>\n",
       "  <tbody>\n",
       "  </tbody>\n",
       "</table>\n",
       "</div>"
      ],
      "text/plain": [
       "Empty DataFrame\n",
       "Columns: [ID X PCODE, Label]\n",
       "Index: []"
      ]
     },
     "execution_count": 112,
     "metadata": {},
     "output_type": "execute_result"
    }
   ],
   "source": [
    "df_new\n"
   ]
  },
  {
   "cell_type": "code",
   "execution_count": 117,
   "metadata": {},
   "outputs": [],
   "source": [
    "d = pd.read_csv(\"Zimint-challeng-Baseline-1.csv\")"
   ]
  },
  {
   "cell_type": "code",
   "execution_count": 118,
   "metadata": {},
   "outputs": [
    {
     "data": {
      "text/html": [
       "<div>\n",
       "<style scoped>\n",
       "    .dataframe tbody tr th:only-of-type {\n",
       "        vertical-align: middle;\n",
       "    }\n",
       "\n",
       "    .dataframe tbody tr th {\n",
       "        vertical-align: top;\n",
       "    }\n",
       "\n",
       "    .dataframe thead th {\n",
       "        text-align: right;\n",
       "    }\n",
       "</style>\n",
       "<table border=\"1\" class=\"dataframe\">\n",
       "  <thead>\n",
       "    <tr style=\"text-align: right;\">\n",
       "      <th></th>\n",
       "      <th>ID X PCODE</th>\n",
       "      <th>Label</th>\n",
       "    </tr>\n",
       "  </thead>\n",
       "  <tbody>\n",
       "    <tr>\n",
       "      <th>0</th>\n",
       "      <td>F86J5PC X P5DA</td>\n",
       "      <td>0.011993</td>\n",
       "    </tr>\n",
       "    <tr>\n",
       "      <th>1</th>\n",
       "      <td>H6141K3 X P5DA</td>\n",
       "      <td>0.010886</td>\n",
       "    </tr>\n",
       "    <tr>\n",
       "      <th>2</th>\n",
       "      <td>RBAYUXZ X P5DA</td>\n",
       "      <td>0.010834</td>\n",
       "    </tr>\n",
       "    <tr>\n",
       "      <th>3</th>\n",
       "      <td>KCBILBQ X P5DA</td>\n",
       "      <td>0.011993</td>\n",
       "    </tr>\n",
       "    <tr>\n",
       "      <th>4</th>\n",
       "      <td>LSEC1ZJ X P5DA</td>\n",
       "      <td>0.011993</td>\n",
       "    </tr>\n",
       "  </tbody>\n",
       "</table>\n",
       "</div>"
      ],
      "text/plain": [
       "       ID X PCODE     Label\n",
       "0  F86J5PC X P5DA  0.011993\n",
       "1  H6141K3 X P5DA  0.010886\n",
       "2  RBAYUXZ X P5DA  0.010834\n",
       "3  KCBILBQ X P5DA  0.011993\n",
       "4  LSEC1ZJ X P5DA  0.011993"
      ]
     },
     "execution_count": 118,
     "metadata": {},
     "output_type": "execute_result"
    }
   ],
   "source": [
    "d.head()"
   ]
  },
  {
   "cell_type": "code",
   "execution_count": 119,
   "metadata": {},
   "outputs": [
    {
     "data": {
      "text/plain": [
       "RangeIndex(start=0, stop=210000, step=1)"
      ]
     },
     "execution_count": 119,
     "metadata": {},
     "output_type": "execute_result"
    }
   ],
   "source": [
    "d.index\n"
   ]
  },
  {
   "cell_type": "code",
   "execution_count": null,
   "metadata": {},
   "outputs": [],
   "source": []
  }
 ],
 "metadata": {
  "kernelspec": {
   "display_name": "Python 3",
   "language": "python",
   "name": "python3"
  },
  "language_info": {
   "codemirror_mode": {
    "name": "ipython",
    "version": 3
   },
   "file_extension": ".py",
   "mimetype": "text/x-python",
   "name": "python",
   "nbconvert_exporter": "python",
   "pygments_lexer": "ipython3",
   "version": "3.6.10"
  },
  "toc": {
   "base_numbering": 1,
   "nav_menu": {},
   "number_sections": true,
   "sideBar": true,
   "skip_h1_title": false,
   "title_cell": "Table of Contents",
   "title_sidebar": "Contents",
   "toc_cell": false,
   "toc_position": {},
   "toc_section_display": true,
   "toc_window_display": false
  }
 },
 "nbformat": 4,
 "nbformat_minor": 2
}
